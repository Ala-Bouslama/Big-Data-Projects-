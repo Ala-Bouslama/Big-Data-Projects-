{
 "cells": [
  {
   "cell_type": "markdown",
   "metadata": {},
   "source": [
    "# <h2> Project :  Part 1 </h2>   \n",
    "<h2>Ala Bouslama  </h2>                                            \n"
   ]
  },
  {
   "cell_type": "code",
   "execution_count": 165,
   "metadata": {},
   "outputs": [],
   "source": [
    "#Import packages\n",
    "import pyspark\n",
    "from pyspark import SparkContext\n",
    "from matplotlib import pyplot as plt\n",
    "import seaborn as sb"
   ]
  },
  {
   "cell_type": "code",
   "execution_count": 166,
   "metadata": {},
   "outputs": [],
   "source": [
    "#create a SparkSession from pyspark.sql\n",
    "spark = pyspark.sql.SparkSession.builder.appName(\"Spark-sales-dfSQL\").getOrCreate()"
   ]
  },
  {
   "cell_type": "code",
   "execution_count": 167,
   "metadata": {},
   "outputs": [
    {
     "name": "stdout",
     "output_type": "stream",
     "text": [
      "+----------+--------+------+--------+-------------------+-------+------+-------------+----------+--------+\n",
      "|  SaleDate|SaleType| Price|PostCode|               City|NbRooms|NbLots|ResidenceType|LivingArea|LandArea|\n",
      "+----------+--------+------+--------+-------------------+-------+------+-------------+----------+--------+\n",
      "|15/01/2019|    SALE| 95000|   31270|VILLENEUVE TOLOSANE|      2|     0|        HOUSE|        45|     505|\n",
      "|21/01/2019|    SALE|261700|   31270|VILLENEUVE TOLOSANE|      4|     0|        HOUSE|        87|     311|\n",
      "|03/01/2019|    SALE|101000|   31270|VILLENEUVE TOLOSANE|      2|     1|    APARTMENT|        44|       0|\n",
      "+----------+--------+------+--------+-------------------+-------+------+-------------+----------+--------+\n",
      "only showing top 3 rows\n",
      "\n"
     ]
    }
   ],
   "source": [
    "#Read data\n",
    "df  =  spark.read.csv('project_data_real_estate_toulouse_and_suburbs.csv', header=True, sep=';') \n",
    "df.show(3)\n"
   ]
  },
  {
   "cell_type": "markdown",
   "metadata": {},
   "source": [
    "Change data Types and Update the structure \n"
   ]
  },
  {
   "cell_type": "code",
   "execution_count": 169,
   "metadata": {},
   "outputs": [],
   "source": [
    "\n",
    "\n",
    "from pyspark.sql.types import *\n",
    "\n",
    "sales_schema =StructType ( [StructField(\"SaleDate\", DateType(), True),\n",
    "                           StructField(\"SaleType\", StringType(), True),\n",
    "                           StructField(\"Price\", DoubleType(), True),\n",
    "                           StructField(\"PostCode\", StringType(), True),\n",
    "                           StructField(\"City\", StringType(), True),\n",
    "                           StructField(\"NbRooms\", IntegerType(), True),\n",
    "                           StructField(\"NbLots\", IntegerType(), True),\n",
    "                           StructField(\"ResidenceType\", StringType(), True),\n",
    "                           StructField(\"LivingArea\", IntegerType(), True),\n",
    "                           StructField(\"LandArea\", IntegerType(), True)]\n",
    "                            )"
   ]
  },
  {
   "cell_type": "code",
   "execution_count": 170,
   "metadata": {},
   "outputs": [
    {
     "name": "stdout",
     "output_type": "stream",
     "text": [
      "+----------+--------------------+--------+--------+-------------------+-------+------+-------------+----------+--------+\n",
      "|  SaleDate|            SaleType|   Price|PostCode|               City|NbRooms|NbLots|ResidenceType|LivingArea|LandArea|\n",
      "+----------+--------------------+--------+--------+-------------------+-------+------+-------------+----------+--------+\n",
      "|2019-01-15|                SALE| 95000.0|   31270|VILLENEUVE TOLOSANE|      2|     0|        HOUSE|        45|     505|\n",
      "|2019-01-21|                SALE|261700.0|   31270|VILLENEUVE TOLOSANE|      4|     0|        HOUSE|        87|     311|\n",
      "|2019-01-03|                SALE|101000.0|   31270|VILLENEUVE TOLOSANE|      2|     1|    APARTMENT|        44|       0|\n",
      "|2019-01-11|                SALE| 59500.0|   31270|VILLENEUVE TOLOSANE|      1|     1|    APARTMENT|        26|       0|\n",
      "|2019-01-15|                SALE|179000.0|   31270|VILLENEUVE TOLOSANE|      4|     0|        HOUSE|        95|     263|\n",
      "|2019-01-15|                SALE|209300.0|   31270|VILLENEUVE TOLOSANE|      4|     0|        HOUSE|        74|     257|\n",
      "|2019-01-18|                SALE|228000.0|   31270|VILLENEUVE TOLOSANE|      4|     0|        HOUSE|        95|     268|\n",
      "|2019-01-16|SALE BEFORE COMPL...|214300.0|   31270|VILLENEUVE TOLOSANE|      3|     0|        HOUSE|        66|     164|\n",
      "|2019-01-17|                SALE|306000.0|   31270|VILLENEUVE TOLOSANE|      5|     0|        HOUSE|       157|     763|\n",
      "|2019-01-29|                SALE|269000.0|   31270|VILLENEUVE TOLOSANE|      5|     0|        HOUSE|       100|     855|\n",
      "|      null|                null|    null|    null|               null|   null|  null|         null|      null|    null|\n",
      "|2019-02-07|                SALE|220000.0|   31270|VILLENEUVE TOLOSANE|      4|     0|        HOUSE|        84|     484|\n",
      "|2019-04-12|                SALE|300000.0|   31270|VILLENEUVE TOLOSANE|      3|     0|        HOUSE|       100|     467|\n",
      "|2019-04-12|                SALE|300000.0|   31270|VILLENEUVE TOLOSANE|      3|     0|        HOUSE|       100|    1526|\n",
      "|2018-01-10|                SALE|215000.0|   31270|VILLENEUVE TOLOSANE|      4|     0|        HOUSE|        84|     107|\n",
      "|2019-01-10|                SALE|395400.0|   31130|  QUINT-FONSEGRIVES|      5|     0|        HOUSE|       155|     802|\n",
      "|2018-01-18|                SALE|200000.0|   31270|VILLENEUVE TOLOSANE|      4|     0|        HOUSE|       105|     500|\n",
      "|2018-01-05|                SALE|332000.0|   31270|VILLENEUVE TOLOSANE|      5|     0|        HOUSE|       140|     969|\n",
      "|2018-01-08|                SALE|123000.0|   31270|VILLENEUVE TOLOSANE|      3|     1|    APARTMENT|        56|       0|\n",
      "|2018-01-26|                SALE|107000.0|   31270|VILLENEUVE TOLOSANE|      2|     1|    APARTMENT|        47|       0|\n",
      "+----------+--------------------+--------+--------+-------------------+-------+------+-------------+----------+--------+\n",
      "only showing top 20 rows\n",
      "\n"
     ]
    }
   ],
   "source": [
    "#Read new dataframe with updated structure\n",
    "df = spark.read.csv('project_data_real_estate_toulouse_and_suburbs.csv', header=True, sep=';', dateFormat='dd/MM/YYYY', schema=sales_schema)\n",
    "df.show()"
   ]
  },
  {
   "cell_type": "code",
   "execution_count": 9,
   "metadata": {},
   "outputs": [
    {
     "data": {
      "text/plain": [
       "80118"
      ]
     },
     "execution_count": 9,
     "metadata": {},
     "output_type": "execute_result"
    }
   ],
   "source": [
    "df.count()"
   ]
  },
  {
   "cell_type": "code",
   "execution_count": 10,
   "metadata": {},
   "outputs": [
    {
     "data": {
      "text/plain": [
       "pyspark.sql.dataframe.DataFrame"
      ]
     },
     "execution_count": 10,
     "metadata": {},
     "output_type": "execute_result"
    }
   ],
   "source": [
    "type(df)"
   ]
  },
  {
   "cell_type": "code",
   "execution_count": 172,
   "metadata": {},
   "outputs": [
    {
     "name": "stdout",
     "output_type": "stream",
     "text": [
      "+-------+--------------------+-----------+--------+-------------------+-------+------+-------------+----------+--------+\n",
      "|summary|            SaleType|      Price|PostCode|               City|NbRooms|NbLots|ResidenceType|LivingArea|LandArea|\n",
      "+-------+--------------------+-----------+--------+-------------------+-------+------+-------------+----------+--------+\n",
      "|  count|               77105|      77105|   77105|              77105|  77105| 77105|        77105|     77105|   77105|\n",
      "|    min|                SALE|        0.0|   31000|         AUCAMVILLE|      1|     0|    APARTMENT|         1|       0|\n",
      "|    50%|                null|   180000.0| 31300.0|               null|      3|     1|         null|        62|       0|\n",
      "|    25%|                null|   122470.0| 31170.0|               null|      2|     0|         null|        43|       0|\n",
      "|    75%|                null|   280000.0| 31500.0|               null|      4|     2|         null|        82|     138|\n",
      "|    max|SALE BEFORE COMPL...|3.3427218E7|   31830|VILLENEUVE TOLOSANE|     41|    13|        HOUSE|       481|   60792|\n",
      "+-------+--------------------+-----------+--------+-------------------+-------+------+-------------+----------+--------+\n",
      "\n"
     ]
    }
   ],
   "source": [
    "#Variable's outliers  : \n",
    "\n",
    "df.summary(\"count\", \"min\", \"50%\" ,\"25%\", \"75%\", \"max\").show()\n"
   ]
  },
  {
   "cell_type": "markdown",
   "metadata": {},
   "source": [
    "As we can see the outliers of our variables columns ( For example , the average price is 180000 and the maximum is 33427218 , The minimum number of rooms is 1 and the average is 41 ...)"
   ]
  },
  {
   "cell_type": "markdown",
   "metadata": {},
   "source": [
    "# Average Price per location  "
   ]
  },
  {
   "cell_type": "markdown",
   "metadata": {},
   "source": [
    "In this part , we can also identify high cost and low cost cities "
   ]
  },
  {
   "cell_type": "markdown",
   "metadata": {},
   "source": [
    "<B> High cost cities\n"
   ]
  },
  {
   "cell_type": "code",
   "execution_count": 176,
   "metadata": {},
   "outputs": [
    {
     "name": "stdout",
     "output_type": "stream",
     "text": [
      "+--------------------+------------------+\n",
      "|                City|        avg(Price)|\n",
      "+--------------------+------------------+\n",
      "|          SAINT-JEAN|  863260.856744186|\n",
      "|              PIBRAC| 836622.0687732341|\n",
      "|            TOULOUSE| 634151.5455853839|\n",
      "|             CUGNAUX| 579626.7678571428|\n",
      "|    VIEILLE TOULOUSE|          570051.5|\n",
      "|             BLAGNAC|507254.94533762056|\n",
      "|          AUCAMVILLE| 472807.3695652174|\n",
      "|RAMONVILLE-SAINT-...|434089.01343873516|\n",
      "| VILLENEUVE TOLOSANE| 353282.4527363184|\n",
      "|       TOURNEFEUILLE|347073.55194527574|\n",
      "|  PLAISANCE DU TOUCH|335517.85353535356|\n",
      "|           COLOMIERS|323835.84222222224|\n",
      "|               BALMA|306818.94100074685|\n",
      "|              LABEGE| 303852.6934306569|\n",
      "|             L UNION|297758.53948832036|\n",
      "|        CORNEBARRIEU|296385.54285714286|\n",
      "|  AUZEVILLE-TOLOSANE|289053.77040816325|\n",
      "|SAINT-ORENS-DE-GA...|285969.78851412947|\n",
      "|               MURET|279293.25756457564|\n",
      "|    CASTANET TOLOSAN| 266280.7614607615|\n",
      "+--------------------+------------------+\n",
      "only showing top 20 rows\n",
      "\n"
     ]
    }
   ],
   "source": [
    "average_price_per_city = df.groupBy('City').agg({'Price':'avg'}).orderBy('avg(Price)', ascending=False)\n",
    "average_price_per_city.show()\n"
   ]
  },
  {
   "cell_type": "markdown",
   "metadata": {},
   "source": [
    "The highest cost cities are SAINT-JEAN , Pibrac , and Toulouse"
   ]
  },
  {
   "cell_type": "markdown",
   "metadata": {},
   "source": [
    "<b> Low cost cities "
   ]
  },
  {
   "cell_type": "code",
   "execution_count": 177,
   "metadata": {},
   "outputs": [
    {
     "name": "stdout",
     "output_type": "stream",
     "text": [
      "+--------------------+--------+------------------+\n",
      "|                City|PostCode|        avg(Price)|\n",
      "+--------------------+--------+------------------+\n",
      "|                null|    null|              null|\n",
      "|          FENOUILLET|   31150|195298.22702702702|\n",
      "|            LEGUEVIN|   31490|201879.80507131538|\n",
      "|  PORTET SUR GARONNE|   31120|227264.96697247706|\n",
      "|           BEAUZELLE|   31700|228428.07719298246|\n",
      "|          ESCALQUENS|   31750|255022.96996996997|\n",
      "|   QUINT-FONSEGRIVES|   31130| 262555.5038560411|\n",
      "|    CASTANET TOLOSAN|   31320| 266280.7614607615|\n",
      "|               MURET|   31600|279293.25756457564|\n",
      "|SAINT-ORENS-DE-GA...|   31650|285969.78851412947|\n",
      "|  AUZEVILLE-TOLOSANE|   31320|289053.77040816325|\n",
      "|        CORNEBARRIEU|   31700|296385.54285714286|\n",
      "|             L UNION|   31240|297758.53948832036|\n",
      "|              LABEGE|   31670| 303852.6934306569|\n",
      "|               BALMA|   31130|306818.94100074685|\n",
      "|           COLOMIERS|   31770|323835.84222222224|\n",
      "|  PLAISANCE DU TOUCH|   31830|335517.85353535356|\n",
      "|       TOURNEFEUILLE|   31170|347073.55194527574|\n",
      "| VILLENEUVE TOLOSANE|   31270| 353282.4527363184|\n",
      "|            TOULOUSE|   31000| 359783.4805362813|\n",
      "+--------------------+--------+------------------+\n",
      "only showing top 20 rows\n",
      "\n"
     ]
    }
   ],
   "source": [
    "#Low cost cities and their postCodes\n",
    "average_price_per_city2 = df.groupBy('City','PostCode').agg({'Price':'avg'}).orderBy('avg(Price)', ascending=True)\n",
    "average_price_per_city2.show()\n"
   ]
  },
  {
   "cell_type": "markdown",
   "metadata": {},
   "source": [
    "The lowest cost cities are FENOUILLET and LEGUEVIN  ( prices are 4 Times less than SAINT-Jean ) "
   ]
  },
  {
   "cell_type": "code",
   "execution_count": 179,
   "metadata": {},
   "outputs": [
    {
     "name": "stdout",
     "output_type": "stream",
     "text": [
      "+----------+--------+--------+--------+-------------------+-------+------+-------------+----------+--------+----+\n",
      "|  SaleDate|SaleType|   Price|PostCode|               City|NbRooms|NbLots|ResidenceType|LivingArea|LandArea|year|\n",
      "+----------+--------+--------+--------+-------------------+-------+------+-------------+----------+--------+----+\n",
      "|2019-01-15|    SALE| 95000.0|   31270|VILLENEUVE TOLOSANE|      2|     0|        HOUSE|        45|     505|2019|\n",
      "|2019-01-21|    SALE|261700.0|   31270|VILLENEUVE TOLOSANE|      4|     0|        HOUSE|        87|     311|2019|\n",
      "|2019-01-03|    SALE|101000.0|   31270|VILLENEUVE TOLOSANE|      2|     1|    APARTMENT|        44|       0|2019|\n",
      "|2019-01-11|    SALE| 59500.0|   31270|VILLENEUVE TOLOSANE|      1|     1|    APARTMENT|        26|       0|2019|\n",
      "+----------+--------+--------+--------+-------------------+-------+------+-------------+----------+--------+----+\n",
      "only showing top 4 rows\n",
      "\n"
     ]
    }
   ],
   "source": [
    "# Add year column \n",
    "df1 = df.withColumn(\"year\", pyspark.sql.functions.split(df['SaleDate'], '-')[0])\n",
    "df1.show(4)"
   ]
  },
  {
   "cell_type": "markdown",
   "metadata": {},
   "source": [
    "# Difference between types of sale "
   ]
  },
  {
   "cell_type": "code",
   "execution_count": 180,
   "metadata": {},
   "outputs": [
    {
     "name": "stdout",
     "output_type": "stream",
     "text": [
      "+----------+--------+--------+--------+-------------------+-------+------+-------------+----------+--------+----+\n",
      "|  SaleDate|SaleType|   Price|PostCode|               City|NbRooms|NbLots|ResidenceType|LivingArea|LandArea|year|\n",
      "+----------+--------+--------+--------+-------------------+-------+------+-------------+----------+--------+----+\n",
      "|2019-01-15|    SALE| 95000.0|   31270|VILLENEUVE TOLOSANE|      2|     0|        HOUSE|        45|     505|2019|\n",
      "|2019-01-21|    SALE|261700.0|   31270|VILLENEUVE TOLOSANE|      4|     0|        HOUSE|        87|     311|2019|\n",
      "|2019-01-03|    SALE|101000.0|   31270|VILLENEUVE TOLOSANE|      2|     1|    APARTMENT|        44|       0|2019|\n",
      "+----------+--------+--------+--------+-------------------+-------+------+-------------+----------+--------+----+\n",
      "only showing top 3 rows\n",
      "\n"
     ]
    }
   ],
   "source": [
    "#Spliting data into two ( ' Sales' and 'Sales before completion') to see the difference \n",
    "# Sale Type Data \n",
    "\n",
    "sale = df1.filter(df.SaleType=='SALE')\n",
    "sale.show(3)\n"
   ]
  },
  {
   "cell_type": "code",
   "execution_count": 181,
   "metadata": {},
   "outputs": [
    {
     "name": "stdout",
     "output_type": "stream",
     "text": [
      "+----------+--------------------+--------+--------+-------------------+-------+------+-------------+----------+--------+----+\n",
      "|  SaleDate|            SaleType|   Price|PostCode|               City|NbRooms|NbLots|ResidenceType|LivingArea|LandArea|year|\n",
      "+----------+--------------------+--------+--------+-------------------+-------+------+-------------+----------+--------+----+\n",
      "|2019-01-16|SALE BEFORE COMPL...|214300.0|   31270|VILLENEUVE TOLOSANE|      3|     0|        HOUSE|        66|     164|2019|\n",
      "|2018-02-15|SALE BEFORE COMPL...|155000.0|   31270|VILLENEUVE TOLOSANE|      2|     1|    APARTMENT|        44|       0|2018|\n",
      "|2018-02-28|SALE BEFORE COMPL...|213009.0|   31270|VILLENEUVE TOLOSANE|      3|     1|    APARTMENT|        63|       0|2018|\n",
      "+----------+--------------------+--------+--------+-------------------+-------+------+-------------+----------+--------+----+\n",
      "only showing top 3 rows\n",
      "\n"
     ]
    }
   ],
   "source": [
    "#SALE BEFORE COMPLETION\n",
    "sale_before_completion = df1.filter(df.SaleType=='SALE BEFORE COMPLETION')\n",
    "sale_before_completion.show(3)\n"
   ]
  },
  {
   "cell_type": "code",
   "execution_count": 47,
   "metadata": {},
   "outputs": [
    {
     "name": "stdout",
     "output_type": "stream",
     "text": [
      "+-------------+------------------+-----------------+\n",
      "|ResidenceType|   avg(LivingArea)|       avg(Price)|\n",
      "+-------------+------------------+-----------------+\n",
      "|    APARTMENT| 56.09170754202825|677190.8301052279|\n",
      "|        HOUSE|108.26817690181468| 452817.812822978|\n",
      "+-------------+------------------+-----------------+\n",
      "\n"
     ]
    }
   ],
   "source": [
    "#Here , we want to see the average LIVING AREA per residence type of the dataset ('residencetype=SALE')\n",
    "average_livingarea_of_appartments_per_city = sale.groupBy('ResidenceType').agg({'Price':'avg','LivingArea': 'avg'}).orderBy('avg(Price)', ascending=False)\n",
    "average_livingarea_of_appartments_per_city.show()"
   ]
  },
  {
   "cell_type": "code",
   "execution_count": 48,
   "metadata": {},
   "outputs": [
    {
     "name": "stdout",
     "output_type": "stream",
     "text": [
      "+-------------+-----------------+------------------+\n",
      "|ResidenceType|  avg(LivingArea)|        avg(Price)|\n",
      "+-------------+-----------------+------------------+\n",
      "|        HOUSE|82.13739376770538| 305075.5807365439|\n",
      "|    APARTMENT|53.33557381130197|208787.07559538627|\n",
      "+-------------+-----------------+------------------+\n",
      "\n"
     ]
    }
   ],
   "source": [
    "#Here , we want to see the LIVING AREA per residence type of the dataset ('residencetype=SALE BOFORE COMPLETION')\n",
    "average_livingarea_of_appartments_per_city = sale_before_completion.groupBy('ResidenceType').agg({'Price':'avg','LivingArea': 'avg'}).orderBy('avg(Price)', ascending=False)\n",
    "average_livingarea_of_appartments_per_city.show()"
   ]
  },
  {
   "cell_type": "markdown",
   "metadata": {},
   "source": [
    "The average price of appartments sold completeted is around 3 times the price of those not completed , \n",
    "Concerning the houses , the average price of houses sold complete is 1.5 times those not completed.  "
   ]
  },
  {
   "cell_type": "markdown",
   "metadata": {},
   "source": [
    "# Evolution of prices per type of sale"
   ]
  },
  {
   "cell_type": "code",
   "execution_count": 56,
   "metadata": {},
   "outputs": [
    {
     "name": "stdout",
     "output_type": "stream",
     "text": [
      "+----+------------------+\n",
      "|year|        avg(price)|\n",
      "+----+------------------+\n",
      "|2019| 570175.4586724543|\n",
      "|2018|296564.36668928084|\n",
      "|2017| 585274.4765889375|\n",
      "|2016| 528384.1574317134|\n",
      "|2015|1118488.1027601778|\n",
      "+----+------------------+\n",
      "\n"
     ]
    }
   ],
   "source": [
    "Evo_of_price_of_saleType = sale.groupBy('year').agg({'price':'avg'}).orderBy('year', ascending=False)\n",
    "Evo_of_price_of_saleType.show()"
   ]
  },
  {
   "cell_type": "markdown",
   "metadata": {},
   "source": [
    "<b>There is a big increase of sale type from 2017 to 2019 (it has been multiplied 4 times from 2017 to 2018 and 2 times from 2018 to 2019 ) "
   ]
  },
  {
   "cell_type": "code",
   "execution_count": 58,
   "metadata": {},
   "outputs": [
    {
     "name": "stdout",
     "output_type": "stream",
     "text": [
      "+----+------------------+\n",
      "|year|        avg(price)|\n",
      "+----+------------------+\n",
      "|2019| 222149.6220472441|\n",
      "|2018|218519.98218673217|\n",
      "|2017| 223289.5234561357|\n",
      "|2016| 214873.3239149432|\n",
      "|2015|202155.26396206534|\n",
      "+----+------------------+\n",
      "\n"
     ]
    }
   ],
   "source": [
    "Evo_of_price_of_sale_before_completion_Type = sale_before_completion.groupBy('year').agg({'price':'avg'}).orderBy('year', ascending=False)\n",
    "Evo_of_price_of_sale_before_completion_Type.show()"
   ]
  },
  {
   "cell_type": "markdown",
   "metadata": {},
   "source": [
    "No important evolution in the last years for the price of this type of sale"
   ]
  },
  {
   "cell_type": "markdown",
   "metadata": {},
   "source": [
    "#  Differences between house and appartment"
   ]
  },
  {
   "cell_type": "markdown",
   "metadata": {},
   "source": [
    "Split data into 2 ( appartments and houses )\n"
   ]
  },
  {
   "cell_type": "code",
   "execution_count": 72,
   "metadata": {},
   "outputs": [
    {
     "data": {
      "text/plain": [
       "62488"
      ]
     },
     "execution_count": 72,
     "metadata": {},
     "output_type": "execute_result"
    }
   ],
   "source": [
    "#Appartments\n",
    "appartments = df1.filter(df.ResidenceType=='APARTMENT')\n",
    "appartments.count()"
   ]
  },
  {
   "cell_type": "code",
   "execution_count": 182,
   "metadata": {},
   "outputs": [
    {
     "data": {
      "text/plain": [
       "17630"
      ]
     },
     "execution_count": 182,
     "metadata": {},
     "output_type": "execute_result"
    }
   ],
   "source": [
    "#houses \n",
    "houses = df1.filter(df.ResidenceType=='HOUSE')\n",
    "houses.count()"
   ]
  },
  {
   "cell_type": "markdown",
   "metadata": {},
   "source": [
    "<B> Adding price Per square for appartments column and another one for houses"
   ]
  },
  {
   "cell_type": "code",
   "execution_count": 184,
   "metadata": {},
   "outputs": [],
   "source": [
    "\n",
    "import pyspark.sql.functions as F\n",
    "\n"
   ]
  },
  {
   "cell_type": "code",
   "execution_count": 188,
   "metadata": {},
   "outputs": [
    {
     "name": "stdout",
     "output_type": "stream",
     "text": [
      "+----------+--------+--------+--------+-------------------+-------+------+-------------+----------+--------+----+------------------+\n",
      "|  SaleDate|SaleType|   Price|PostCode|               City|NbRooms|NbLots|ResidenceType|LivingArea|LandArea|year|  price_per_square|\n",
      "+----------+--------+--------+--------+-------------------+-------+------+-------------+----------+--------+----+------------------+\n",
      "|2019-01-15|    SALE| 95000.0|   31270|VILLENEUVE TOLOSANE|      2|     0|        HOUSE|        45|     505|2019|2111.1111111111113|\n",
      "|2019-01-21|    SALE|261700.0|   31270|VILLENEUVE TOLOSANE|      4|     0|        HOUSE|        87|     311|2019|3008.0459770114944|\n",
      "|2019-01-03|    SALE|101000.0|   31270|VILLENEUVE TOLOSANE|      2|     1|    APARTMENT|        44|       0|2019|2295.4545454545455|\n",
      "|2019-01-11|    SALE| 59500.0|   31270|VILLENEUVE TOLOSANE|      1|     1|    APARTMENT|        26|       0|2019|2288.4615384615386|\n",
      "|2019-01-15|    SALE|179000.0|   31270|VILLENEUVE TOLOSANE|      4|     0|        HOUSE|        95|     263|2019|1884.2105263157894|\n",
      "+----------+--------+--------+--------+-------------------+-------+------+-------------+----------+--------+----+------------------+\n",
      "only showing top 5 rows\n",
      "\n"
     ]
    }
   ],
   "source": [
    "df1 = df1.withColumn(\"price_per_square\", F.col(\"Price\") / F.col(\"LivingArea\"))\n",
    "df1.show(5)"
   ]
  },
  {
   "cell_type": "code",
   "execution_count": 201,
   "metadata": {},
   "outputs": [
    {
     "name": "stdout",
     "output_type": "stream",
     "text": [
      "+----------+--------+--------+--------+-------------------+-------+------+-------------+----------+--------+----+------------------+\n",
      "|  SaleDate|SaleType|   Price|PostCode|               City|NbRooms|NbLots|ResidenceType|LivingArea|LandArea|year|  price_per_square|\n",
      "+----------+--------+--------+--------+-------------------+-------+------+-------------+----------+--------+----+------------------+\n",
      "|2019-01-03|    SALE|101000.0|   31270|VILLENEUVE TOLOSANE|      2|     1|    APARTMENT|        44|       0|2019|2295.4545454545455|\n",
      "|2019-01-11|    SALE| 59500.0|   31270|VILLENEUVE TOLOSANE|      1|     1|    APARTMENT|        26|       0|2019|2288.4615384615386|\n",
      "|2018-01-08|    SALE|123000.0|   31270|VILLENEUVE TOLOSANE|      3|     1|    APARTMENT|        56|       0|2018|2196.4285714285716|\n",
      "+----------+--------+--------+--------+-------------------+-------+------+-------------+----------+--------+----+------------------+\n",
      "only showing top 3 rows\n",
      "\n"
     ]
    }
   ],
   "source": [
    "appartments_with_pricepersquare = appartments.withColumn(\"price_per_square\", F.col(\"Price\") / F.col(\"LivingArea\"))\n",
    "appartments_with_pricepersquare.show(3)"
   ]
  },
  {
   "cell_type": "markdown",
   "metadata": {},
   "source": [
    "<b> Difference of price per PostCode"
   ]
  },
  {
   "cell_type": "code",
   "execution_count": 190,
   "metadata": {},
   "outputs": [
    {
     "name": "stdout",
     "output_type": "stream",
     "text": [
      "+--------+---------------------+\n",
      "|PostCode|avg(price_per_square)|\n",
      "+--------+---------------------+\n",
      "|   31400|   22323.380059533574|\n",
      "|   31100|   20847.980459397866|\n",
      "|   31300|   13925.717410471525|\n",
      "|   31270|   11541.471487764398|\n",
      "|   31500|    11370.64177038219|\n",
      "|   31140|   10651.709807646346|\n",
      "|   31700|    9051.176956767044|\n",
      "|   31000|    8721.906493357686|\n",
      "|   31200|    8375.292606104667|\n",
      "|   31520|   8078.5330840044635|\n",
      "|   31770|    7877.562609509424|\n",
      "|   31600|    7717.693642026942|\n",
      "|   31170|    6030.439058117998|\n",
      "|   31670|    4279.987884045257|\n",
      "|   31240|     4000.07608288499|\n",
      "|   31320|   3952.0634293867415|\n",
      "|   31650|   3364.0620736246065|\n",
      "|   31130|    3307.661097809217|\n",
      "|   31820|    3226.379831424579|\n",
      "|   31120|   2958.8143588618336|\n",
      "+--------+---------------------+\n",
      "only showing top 20 rows\n",
      "\n"
     ]
    }
   ],
   "source": [
    "avg_price_per_square_forAppartments = appartments_with_pricepersquare.groupby('PostCode').agg({'price_per_square':'avg'}).orderBy('avg(price_per_square)', ascending=False)\n",
    "avg_price_per_square_forAppartments.show()\n"
   ]
  },
  {
   "cell_type": "markdown",
   "metadata": {},
   "source": [
    "<b>31400 ,31100  are the most expensive PostCode Places for buying an appartment with an average price per square higher than 20000 "
   ]
  },
  {
   "cell_type": "code",
   "execution_count": 192,
   "metadata": {},
   "outputs": [
    {
     "name": "stdout",
     "output_type": "stream",
     "text": [
      "+----------+--------+--------+--------+-------------------+-------+------+-------------+----------+--------+----+------------------+\n",
      "|  SaleDate|SaleType|   Price|PostCode|               City|NbRooms|NbLots|ResidenceType|LivingArea|LandArea|year|  price_per_square|\n",
      "+----------+--------+--------+--------+-------------------+-------+------+-------------+----------+--------+----+------------------+\n",
      "|2019-01-15|    SALE| 95000.0|   31270|VILLENEUVE TOLOSANE|      2|     0|        HOUSE|        45|     505|2019|188.11881188118812|\n",
      "|2019-01-21|    SALE|261700.0|   31270|VILLENEUVE TOLOSANE|      4|     0|        HOUSE|        87|     311|2019| 841.4790996784566|\n",
      "+----------+--------+--------+--------+-------------------+-------+------+-------------+----------+--------+----+------------------+\n",
      "only showing top 2 rows\n",
      "\n"
     ]
    }
   ],
   "source": [
    "houses_with_pricepersquare = houses.withColumn(\"price_per_square\", F.col(\"Price\") / F.col(\"LandArea\"))\n",
    "houses_with_pricepersquare.show(2)\n"
   ]
  },
  {
   "cell_type": "code",
   "execution_count": 193,
   "metadata": {},
   "outputs": [
    {
     "name": "stdout",
     "output_type": "stream",
     "text": [
      "+--------+---------------------+\n",
      "|PostCode|avg(price_per_square)|\n",
      "+--------+---------------------+\n",
      "|   31000|   3929.9443308600776|\n",
      "|   31400|   2101.8038395462468|\n",
      "|   31500|    1616.587496577286|\n",
      "|   31300|   1458.3146672694459|\n",
      "|   31130|   1287.2186637011011|\n",
      "|   31200|     1269.83500287272|\n",
      "|   31100|   1049.2727045764814|\n",
      "|   31650|    955.6543422143728|\n",
      "|   31240|    927.7659066344393|\n",
      "|   31700|    868.6954524652988|\n",
      "|   31320|    851.0163701538922|\n",
      "|   31770|    782.5110048190816|\n",
      "|   31140|    776.6712597590027|\n",
      "|   31830|    755.0444427982449|\n",
      "|   31820|    740.2166061326623|\n",
      "|   31270|    734.5379680405911|\n",
      "|   31520|    699.6524574867327|\n",
      "|   31170|    696.5839627384345|\n",
      "|   31750|     659.054681706938|\n",
      "|   31670|    642.9162438033767|\n",
      "+--------+---------------------+\n",
      "only showing top 20 rows\n",
      "\n"
     ]
    }
   ],
   "source": [
    "avg_price_per_square_forHouses =houses_with_pricepersquare.groupby('PostCode').agg({'price_per_square':'avg'}).orderBy('avg(price_per_square)', ascending=False)\n",
    "avg_price_per_square_forHouses.show()"
   ]
  },
  {
   "cell_type": "markdown",
   "metadata": {},
   "source": [
    "Concerning the price of houses , in 31000 and 31400 we have the highest prices of M² ( 3929e in 31000 and 2101 in 31400 ) \n"
   ]
  },
  {
   "cell_type": "markdown",
   "metadata": {},
   "source": [
    "<b> 31 000 has the highest price for buying a house , and the 8th highest for buying an appartment )\n",
    "    ==> Clients prefer to buy houses in the center of Toulouse 31000 rather than buying an appartment"
   ]
  },
  {
   "cell_type": "markdown",
   "metadata": {},
   "source": [
    "# Evolution of prices per Residence Type ( house , app ) per year "
   ]
  },
  {
   "cell_type": "code",
   "execution_count": 194,
   "metadata": {},
   "outputs": [
    {
     "name": "stdout",
     "output_type": "stream",
     "text": [
      "+-------------+----+---------------------+\n",
      "|ResidenceType|year|avg(price_per_square)|\n",
      "+-------------+----+---------------------+\n",
      "|    APARTMENT|2019|    22956.02133744783|\n",
      "|        HOUSE|2019|     3647.30923723466|\n",
      "|        HOUSE|2018|   3871.9843523421737|\n",
      "|    APARTMENT|2018|    5050.254087396504|\n",
      "|        HOUSE|2017|    3462.928915582423|\n",
      "|    APARTMENT|2017|    11104.29176950227|\n",
      "|    APARTMENT|2016|    9926.438685041774|\n",
      "|        HOUSE|2016|   3666.3631270054857|\n",
      "|        HOUSE|2015|    8772.945276515396|\n",
      "|    APARTMENT|2015|    16945.01316351537|\n",
      "|         null|null|                 null|\n",
      "+-------------+----+---------------------+\n",
      "\n"
     ]
    }
   ],
   "source": [
    "evo=df1.groupby('ResidenceType','year').agg({'price_per_square':'avg'}).orderBy('year', ascending=False)\n",
    "evo.show()"
   ]
  },
  {
   "cell_type": "markdown",
   "metadata": {},
   "source": [
    "<b> The price_per_sqaure  of appartments increased a lot  from 2018 to 2019 while the price of M² is almost constant from 2018 to 2019 (increase of 200euro)"
   ]
  },
  {
   "cell_type": "markdown",
   "metadata": {},
   "source": [
    "# Differences between Toulouse and  its suburbs \n",
    " \n"
   ]
  },
  {
   "cell_type": "markdown",
   "metadata": {},
   "source": [
    "In this step , we want to compare Toulouse with 5 suburbs which have the highest prices in our dataset"
   ]
  },
  {
   "cell_type": "markdown",
   "metadata": {},
   "source": [
    "Split the data into 2 ( Toulouse and suburbs)\n"
   ]
  },
  {
   "cell_type": "markdown",
   "metadata": {},
   "source": [
    "<b> Toulouse Data"
   ]
  },
  {
   "cell_type": "code",
   "execution_count": 203,
   "metadata": {},
   "outputs": [
    {
     "name": "stdout",
     "output_type": "stream",
     "text": [
      "+----------+--------+--------+--------+--------+-------+------+-------------+----------+--------+----+------------------+\n",
      "|  SaleDate|SaleType|   Price|PostCode|    City|NbRooms|NbLots|ResidenceType|LivingArea|LandArea|year|  price_per_square|\n",
      "+----------+--------+--------+--------+--------+-------+------+-------------+----------+--------+----+------------------+\n",
      "|2019-01-03|    SALE|380000.0|   31500|TOULOUSE|      2|     0|        HOUSE|        52|     160|2019| 7307.692307692308|\n",
      "|2019-01-07|    SALE|128000.0|   31500|TOULOUSE|      5|     2|    APARTMENT|        78|       0|2019| 1641.025641025641|\n",
      "|2019-01-09|    SALE|155447.0|   31500|TOULOUSE|      4|     1|    APARTMENT|        78|       0|2019|1992.9102564102564|\n",
      "|2019-01-09|    SALE| 72000.0|   31500|TOULOUSE|      2|     2|    APARTMENT|        39|       0|2019|1846.1538461538462|\n",
      "|2019-01-08|    SALE|108500.0|   31400|TOULOUSE|      2|     1|    APARTMENT|        45|       0|2019|2411.1111111111113|\n",
      "+----------+--------+--------+--------+--------+-------+------+-------------+----------+--------+----+------------------+\n",
      "only showing top 5 rows\n",
      "\n"
     ]
    }
   ],
   "source": [
    "toulouse = df1.filter(df.City=='TOULOUSE')\n",
    "toulouse.show(5)\n"
   ]
  },
  {
   "cell_type": "code",
   "execution_count": 205,
   "metadata": {},
   "outputs": [
    {
     "name": "stdout",
     "output_type": "stream",
     "text": [
      "+-------+--------------------+-----------+--------+--------+-------+------+-------------+----------+--------+------+------------------+\n",
      "|summary|            SaleType|      Price|PostCode|    City|NbRooms|NbLots|ResidenceType|LivingArea|LandArea|  year|  price_per_square|\n",
      "+-------+--------------------+-----------+--------+--------+-------+------+-------------+----------+--------+------+------------------+\n",
      "|  count|               50027|      50027|   50027|   50027|  50027| 50027|        50027|     50027|   50027| 50027|             50027|\n",
      "|    min|                SALE|        0.0|   31000|TOULOUSE|      1|     0|    APARTMENT|         1|       0|  2015|               0.0|\n",
      "|    50%|                null|   168953.0| 31200.0|    null|      3|     1|         null|        57|       0|2017.0|3145.1612903225805|\n",
      "|    25%|                null|   113000.0| 31100.0|    null|      2|     1|         null|        40|       0|2016.0|2341.8867924528304|\n",
      "|    75%|                null|   270000.0| 31400.0|    null|      4|     2|         null|        73|       0|2018.0|            4187.5|\n",
      "|    max|SALE BEFORE COMPL...|3.3427218E7|   31500|TOULOUSE|     41|    13|        HOUSE|       481|   51859|  2019|        1392800.75|\n",
      "+-------+--------------------+-----------+--------+--------+-------+------+-------------+----------+--------+------+------------------+\n",
      "\n"
     ]
    }
   ],
   "source": [
    "toulouse.summary(\"count\", \"min\", \"50%\", \"25%\", \"75%\", \"max\").show()\n"
   ]
  },
  {
   "cell_type": "markdown",
   "metadata": {},
   "source": [
    "As we can see the outliers of Toulouse data  , we have 50027 sales from Toulouse and the highest price that we mentioned before is in Toulouse with an average price of 168935"
   ]
  },
  {
   "cell_type": "code",
   "execution_count": 109,
   "metadata": {},
   "outputs": [
    {
     "name": "stdout",
     "output_type": "stream",
     "text": [
      "+----+------------------+\n",
      "|year|        avg(price)|\n",
      "+----+------------------+\n",
      "|2019| 694309.7682414049|\n",
      "|2018|306404.16524862923|\n",
      "|2017| 608159.4727398206|\n",
      "|2016| 443091.7886704372|\n",
      "|2015|1141088.0634241938|\n",
      "+----+------------------+\n",
      "\n"
     ]
    }
   ],
   "source": [
    "evo=toulouse.groupby('year').agg({'price':'avg'}).orderBy('year', ascending=False)\n",
    "evo.show()"
   ]
  },
  {
   "cell_type": "markdown",
   "metadata": {},
   "source": [
    "<b> There is an important increase of the average price in Toulouse from 2018 to 2019 ( Doubled ) and multiplied 6 times from 2015 to 2019 "
   ]
  },
  {
   "cell_type": "markdown",
   "metadata": {},
   "source": [
    "<b> Suburbs data "
   ]
  },
  {
   "cell_type": "code",
   "execution_count": 208,
   "metadata": {},
   "outputs": [
    {
     "name": "stdout",
     "output_type": "stream",
     "text": [
      "+----------+--------+--------+--------+----------------+-------+------+-------------+----------+--------+----+------------------+\n",
      "|  SaleDate|SaleType|   Price|PostCode|            City|NbRooms|NbLots|ResidenceType|LivingArea|LandArea|year|  price_per_square|\n",
      "+----------+--------+--------+--------+----------------+-------+------+-------------+----------+--------+----+------------------+\n",
      "|2019-01-15|    SALE|550000.0|   31320|VIEILLE TOULOUSE|      8|     0|        HOUSE|       211|    2000|2019|2606.6350710900474|\n",
      "|2019-01-15|    SALE|550000.0|   31320|VIEILLE TOULOUSE|      8|     0|        HOUSE|       211|    3006|2019|2606.6350710900474|\n",
      "|2019-03-15|    SALE|380000.0|   31320|VIEILLE TOULOUSE|      6|     0|        HOUSE|       119|    1360|2019|  3193.27731092437|\n",
      "|2019-06-06|    SALE|658050.0|   31320|VIEILLE TOULOUSE|      4|     0|        HOUSE|       105|    1057|2019| 6267.142857142857|\n",
      "|2018-01-05|    SALE|734400.0|   31320|VIEILLE TOULOUSE|      6|     0|        HOUSE|       250|    1800|2018|            2937.6|\n",
      "+----------+--------+--------+--------+----------------+-------+------+-------------+----------+--------+----+------------------+\n",
      "only showing top 5 rows\n",
      "\n"
     ]
    }
   ],
   "source": [
    "#We choosed PIBRAC , SAINT-Jean , CUGNAUX , VIEILLE TOULOUSE , BLAGNAC as most important Suburbs because they are\n",
    "toulouse_suburbs = df1.filter( (df.City == 'PIBRAC') | (df.City =='SAINT-JEAN' )  | (df.City =='CUGNAUX' )  | (df.City =='VIEILLE TOULOUSE') | (df.City =='BLAGNAC' )       )\n",
    "toulouse_suburbs.show(5)"
   ]
  },
  {
   "cell_type": "code",
   "execution_count": 209,
   "metadata": {},
   "outputs": [
    {
     "name": "stdout",
     "output_type": "stream",
     "text": [
      "+----+------------------+\n",
      "|year|        avg(price)|\n",
      "+----+------------------+\n",
      "|2019| 226731.1120689655|\n",
      "|2018|240499.31500926497|\n",
      "|2017|  535342.965453708|\n",
      "|2016| 816813.2023460411|\n",
      "|2015| 769436.3696771174|\n",
      "+----+------------------+\n",
      "\n"
     ]
    }
   ],
   "source": [
    "evo2=toulouse_suburbs.groupby('year').agg({'price':'avg'}).orderBy('year', ascending=False)\n",
    "evo2.show()\n"
   ]
  },
  {
   "cell_type": "markdown",
   "metadata": {},
   "source": [
    "<b> the avg price in toulouse's suburbs is almost constant last two years with a multiplication times 4 from 2017 to 2018"
   ]
  },
  {
   "cell_type": "markdown",
   "metadata": {},
   "source": [
    "# Evolution of number of sales and comparision between Toulouse and Suburbs"
   ]
  },
  {
   "cell_type": "code",
   "execution_count": 123,
   "metadata": {},
   "outputs": [
    {
     "name": "stdout",
     "output_type": "stream",
     "text": [
      "+-------------+----+-----+\n",
      "|ResidenceType|Year|count|\n",
      "+-------------+----+-----+\n",
      "|        HOUSE|2019| 1191|\n",
      "|    APARTMENT|2019| 4518|\n",
      "|    APARTMENT|2018|12336|\n",
      "|        HOUSE|2018| 4301|\n",
      "|        HOUSE|2017| 4463|\n",
      "|    APARTMENT|2017|16389|\n",
      "|    APARTMENT|2016|14588|\n",
      "|        HOUSE|2016| 3856|\n",
      "|        HOUSE|2015| 3819|\n",
      "|    APARTMENT|2015|14657|\n",
      "+-------------+----+-----+\n",
      "\n"
     ]
    }
   ],
   "source": [
    "# In all locations : \n",
    "evolution_of_Number_of_sales1=df1.groupby('ResidenceType', 'Year').count().orderBy('year', ascending=False)\n",
    "evolution_of_Number_of_sales1.show()"
   ]
  },
  {
   "cell_type": "code",
   "execution_count": 124,
   "metadata": {},
   "outputs": [
    {
     "name": "stdout",
     "output_type": "stream",
     "text": [
      "+-------------+----+-----+\n",
      "|ResidenceType|Year|count|\n",
      "+-------------+----+-----+\n",
      "|        HOUSE|2019|  535|\n",
      "|    APARTMENT|2019| 3551|\n",
      "|        HOUSE|2018| 1482|\n",
      "|    APARTMENT|2018| 9272|\n",
      "|    APARTMENT|2017|12028|\n",
      "|        HOUSE|2017| 1574|\n",
      "|        HOUSE|2016| 1314|\n",
      "|    APARTMENT|2016|10371|\n",
      "|        HOUSE|2015| 1286|\n",
      "|    APARTMENT|2015|10384|\n",
      "+-------------+----+-----+\n",
      "\n"
     ]
    }
   ],
   "source": [
    "# In toulouse \n",
    "evolution_of_Number_of_sales_in_toulouse=toulouse.groupby('ResidenceType', 'Year').count().orderBy('year', ascending=False)\n",
    "evolution_of_Number_of_sales_in_toulouse.show()"
   ]
  },
  {
   "cell_type": "markdown",
   "metadata": {},
   "source": [
    "<b> As we can see from 2018 to 2019 , The number of sales of appartments is divided to 3 , and the number of houses divided by 3 also ==> This the result of the big increase of  prices in Toulouse from 2018 to 2019 ( Doubled )"
   ]
  },
  {
   "cell_type": "markdown",
   "metadata": {},
   "source": [
    "<b> from 2017 to 2018 , Prices are almost divided to 2 , and from 2018 to 2019 there is no bi evolution in prices in Suburbs of Toulouse"
   ]
  },
  {
   "cell_type": "code",
   "execution_count": 126,
   "metadata": {},
   "outputs": [
    {
     "name": "stdout",
     "output_type": "stream",
     "text": [
      "+-------------+----+-----+\n",
      "|ResidenceType|Year|count|\n",
      "+-------------+----+-----+\n",
      "|    APARTMENT|2019|  296|\n",
      "|        HOUSE|2019|  169|\n",
      "|        HOUSE|2018|  684|\n",
      "|    APARTMENT|2018|  972|\n",
      "|        HOUSE|2017|  762|\n",
      "|    APARTMENT|2017| 1503|\n",
      "|        HOUSE|2016|  650|\n",
      "|    APARTMENT|2016| 1569|\n",
      "|        HOUSE|2015|  715|\n",
      "|    APARTMENT|2015| 1572|\n",
      "+-------------+----+-----+\n",
      "\n"
     ]
    }
   ],
   "source": [
    "# In Suburbs \n",
    "evolution_of_Number_of_sales_in_suburbs=toulouse_suburbs.groupby('ResidenceType', 'Year').count().orderBy('year', ascending=False)\n",
    "evolution_of_Number_of_sales_in_suburbs.show()"
   ]
  },
  {
   "cell_type": "markdown",
   "metadata": {},
   "source": [
    "As we can see the number of sales of houses in suburbs from 2018 to 2019 is divided into 4 ==> This is because Toulouse has the biggest market share in This region and clients are preferring to buy in Toulouse in the last 2 years"
   ]
  }
 ],
 "metadata": {
  "kernelspec": {
   "display_name": "Python 3",
   "language": "python",
   "name": "python3"
  },
  "language_info": {
   "codemirror_mode": {
    "name": "ipython",
    "version": 3
   },
   "file_extension": ".py",
   "mimetype": "text/x-python",
   "name": "python",
   "nbconvert_exporter": "python",
   "pygments_lexer": "ipython3",
   "version": "3.7.6"
  }
 },
 "nbformat": 4,
 "nbformat_minor": 4
}
